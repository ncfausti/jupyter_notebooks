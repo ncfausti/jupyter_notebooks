{
  "nbformat": 4,
  "nbformat_minor": 0,
  "metadata": {
    "colab": {
      "name": "Lecture - Caching-Fibonacci.ipynb",
      "version": "0.3.2",
      "provenance": []
    },
    "kernelspec": {
      "display_name": "Python 3",
      "language": "python",
      "name": "python3"
    },
    "accelerator": "GPU"
  },
  "cells": [
    {
      "cell_type": "markdown",
      "metadata": {
        "id": "view-in-github",
        "colab_type": "text"
      },
      "source": [
        "[View in Colaboratory](https://colab.research.google.com/github/ncfausti/jupyter_notebooks/blob/master/Lecture_Caching_Fibonacci.ipynb)"
      ]
    },
    {
      "metadata": {
        "id": "yYOms2kIlxDI",
        "colab_type": "code",
        "colab": {
          "base_uri": "https://localhost:8080/",
          "height": 69
        },
        "outputId": "2a892772-a980-4405-e8c6-b3f015414106"
      },
      "cell_type": "code",
      "source": [
        "# This does an expensive join in Spark\n",
        "def expensive_join(tables_to_join):\n",
        "    results = ['This is example data']\n",
        "    # Call spark etc\n",
        "    return results\n",
        "\n",
        "# We are using a dictionary as a key/value cache\n",
        "cache = {}\n",
        "\n",
        "def retrieve_or_compute(tables_to_join):\n",
        "    tables_sorted = tables_to_join\n",
        "    tables_sorted.sort()\n",
        "    key = str(tables_sorted)\n",
        "    if key in cache:\n",
        "        print ('Returning from cache')\n",
        "        return cache[key]\n",
        "    else:\n",
        "        print ('Computing the first time')\n",
        "        results = expensive_join(tables_to_join)\n",
        "        cache[key] = results\n",
        "        return results\n",
        "\n",
        "retrieve_or_compute(['table1','table2'])\n",
        "retrieve_or_compute(['table1','table2'])"
      ],
      "execution_count": 1,
      "outputs": [
        {
          "output_type": "stream",
          "text": [
            "Computing the first time\n",
            "Returning from cache\n"
          ],
          "name": "stdout"
        },
        {
          "output_type": "execute_result",
          "data": {
            "text/plain": [
              "['This is example data']"
            ]
          },
          "metadata": {
            "tags": []
          },
          "execution_count": 1
        }
      ]
    },
    {
      "metadata": {
        "id": "YhLPopqXlxDW",
        "colab_type": "code",
        "colab": {
          "base_uri": "https://localhost:8080/",
          "height": 104
        },
        "outputId": "ac507b75-6ae3-41de-80a5-f3405677a434"
      },
      "cell_type": "code",
      "source": [
        "import time\n",
        "\n",
        "# This does an expensive join in Spark\n",
        "def expensive_join(tables_to_join):\n",
        "    results = ['This is example data']\n",
        "    # Call spark etc\n",
        "    return results\n",
        "\n",
        "# We are using a dictionary as a key/value cache\n",
        "cache = {}\n",
        "# This tracks items' access time\n",
        "accessed = {}\n",
        "\n",
        "def get_oldest():\n",
        "    oldest_age = -1\n",
        "    oldest_value = ''\n",
        "    for key in accessed:\n",
        "        if oldest_age == -1 or accessed[key] < oldest_age:\n",
        "            oldest_age = accessed[key]\n",
        "            oldest_value = key\n",
        "    return oldest_value\n",
        "\n",
        "def retrieve_or_compute(tables_to_join):\n",
        "    tables_sorted = tables_to_join\n",
        "    tables_sorted.sort()\n",
        "    key = str(tables_sorted)\n",
        "    if key in cache:\n",
        "        print ('Returning ', key, 'from cache')\n",
        "        accessed[key] = time.time()\n",
        "        return cache[key]\n",
        "    else:\n",
        "        print ('Computing the first time')\n",
        "        results = expensive_join(tables_to_join)\n",
        "        cache[key] = results\n",
        "        accessed[key] = time.time()\n",
        "        return results\n",
        "\n",
        "retrieve_or_compute(['table1','table2'])\n",
        "retrieve_or_compute(['table2','table3'])\n",
        "retrieve_or_compute(['table3','table1'])\n",
        "retrieve_or_compute(['table1','table2'])\n"
      ],
      "execution_count": 2,
      "outputs": [
        {
          "output_type": "stream",
          "text": [
            "Computing the first time\n",
            "Computing the first time\n",
            "Computing the first time\n",
            "Returning  ['table1', 'table2'] from cache\n"
          ],
          "name": "stdout"
        },
        {
          "output_type": "execute_result",
          "data": {
            "text/plain": [
              "['This is example data']"
            ]
          },
          "metadata": {
            "tags": []
          },
          "execution_count": 2
        }
      ]
    },
    {
      "metadata": {
        "id": "P0TDRK4glxDg",
        "colab_type": "code",
        "colab": {
          "base_uri": "https://localhost:8080/",
          "height": 34
        },
        "outputId": "c4259947-e3fc-41d5-a09f-418bc9614337"
      },
      "cell_type": "code",
      "source": [
        "get_oldest()"
      ],
      "execution_count": 3,
      "outputs": [
        {
          "output_type": "execute_result",
          "data": {
            "text/plain": [
              "\"['table2', 'table3']\""
            ]
          },
          "metadata": {
            "tags": []
          },
          "execution_count": 3
        }
      ]
    },
    {
      "metadata": {
        "id": "q0bRNtcUlxDq",
        "colab_type": "code",
        "colab": {
          "base_uri": "https://localhost:8080/",
          "height": 52
        },
        "outputId": "721297f6-dc5e-45af-d033-1b7571124464"
      },
      "cell_type": "code",
      "source": [
        "accessed.pop(get_oldest())\n",
        "\n",
        "accessed"
      ],
      "execution_count": 4,
      "outputs": [
        {
          "output_type": "execute_result",
          "data": {
            "text/plain": [
              "{\"['table1', 'table2']\": 1522827484.9669807,\n",
              " \"['table1', 'table3']\": 1522827484.9662795}"
            ]
          },
          "metadata": {
            "tags": []
          },
          "execution_count": 4
        }
      ]
    },
    {
      "metadata": {
        "id": "l5xKNdozlxDw",
        "colab_type": "code",
        "colab": {
          "base_uri": "https://localhost:8080/",
          "height": 52
        },
        "outputId": "19c60b3e-d205-42a6-a223-a841034ad2fe"
      },
      "cell_type": "code",
      "source": [
        "count = 0\n",
        "\n",
        "def recur_fibo(n):\n",
        "    global count\n",
        "    count = count + 1\n",
        "    if n <= 1:\n",
        "        return n\n",
        "    else:\n",
        "        return(recur_fibo(n-1) + recur_fibo(n-2))\n",
        "    \n",
        "print (recur_fibo(10))\n",
        "print (count, 'calls')"
      ],
      "execution_count": 5,
      "outputs": [
        {
          "output_type": "stream",
          "text": [
            "55\n",
            "177 calls\n"
          ],
          "name": "stdout"
        }
      ]
    },
    {
      "metadata": {
        "id": "rVxOSG6ZlxD4",
        "colab_type": "code",
        "colab": {
          "base_uri": "https://localhost:8080/",
          "height": 52
        },
        "outputId": "255a2fcf-aa0b-40c8-e6c6-31247d62bf72"
      },
      "cell_type": "code",
      "source": [
        "count = 0\n",
        "cache = {}\n",
        "\n",
        "def recur_fibo(n):\n",
        "    global count\n",
        "    global cache\n",
        "    count = count + 1\n",
        "    if n not in cache:\n",
        "        if n <= 1:\n",
        "            cache[n] = n\n",
        "        else:\n",
        "            cache[n] = (recur_fibo(n-1) + recur_fibo(n-2))\n",
        "    return cache[n]\n",
        "    \n",
        "print (recur_fibo(10))\n",
        "print (count, 'calls')"
      ],
      "execution_count": 6,
      "outputs": [
        {
          "output_type": "stream",
          "text": [
            "55\n",
            "19 calls\n"
          ],
          "name": "stdout"
        }
      ]
    },
    {
      "metadata": {
        "id": "ZaaL7tiVlxEA",
        "colab_type": "code",
        "colab": {
          "base_uri": "https://localhost:8080/",
          "height": 34
        },
        "outputId": "eb0d6461-f4ea-4114-cb46-4c0803864def"
      },
      "cell_type": "code",
      "source": [
        "fibo_dp = [1,1]\n",
        "\n",
        "largest = 15\n",
        "for i in range(len(fibo_dp), largest):\n",
        "    fibo_dp.append(fibo_dp[i-1] + fibo_dp[i-2])\n",
        "    \n",
        "def fibo(i):\n",
        "    global fibo_dp\n",
        "    return fibo_dp[i-1]\n",
        "    \n",
        "print (fibo(10))"
      ],
      "execution_count": 7,
      "outputs": [
        {
          "output_type": "stream",
          "text": [
            "55\n"
          ],
          "name": "stdout"
        }
      ]
    },
    {
      "metadata": {
        "id": "B0nlayVJlxEK",
        "colab_type": "code",
        "colab": {
          "base_uri": "https://localhost:8080/",
          "height": 34
        },
        "outputId": "86fae407-a70b-4ca3-8297-cfd75c52703c"
      },
      "cell_type": "code",
      "source": [
        "def lev(a, b):\n",
        "    if not a: return len(b)\n",
        "    if not b: return len(a)\n",
        "    return min(lev(a[1:], b[1:])+(a[0] != b[0]), lev(a[1:], b)+1, lev(a, b[1:])+1)\n",
        "\n",
        "\n",
        "a = 'robot'\n",
        "b = 'bot'\n",
        "\n",
        "print (lev(a,b))"
      ],
      "execution_count": 1,
      "outputs": [
        {
          "output_type": "stream",
          "text": [
            "2\n"
          ],
          "name": "stdout"
        }
      ]
    },
    {
      "metadata": {
        "id": "x_wsstbFlxEU",
        "colab_type": "code",
        "colab": {
          "base_uri": "https://localhost:8080/",
          "height": 139
        },
        "outputId": "efb04ebc-afaf-48e2-ac25-65b271f51023"
      },
      "cell_type": "code",
      "source": [
        "import numpy as np\n",
        "\n",
        "def levenshtein(s1, s2):\n",
        "    if len(s1) < len(s2):\n",
        "        return levenshtein(s2, s1)\n",
        "\n",
        "    # len(s1) >= len(s2)\n",
        "    if len(s2) == 0:\n",
        "        return len(s1)\n",
        "    \n",
        "    memo = np.zeros((len(s1) +1, len(s2) + 1), np.int8)\n",
        "\n",
        "    memo[0] = range(len(s2) + 1)\n",
        "    # We are computing the *next* cell in (i+1, j+1)\n",
        "    for i, c1 in enumerate(s1):\n",
        "        memo[i + 1, 0] = i + 1\n",
        "        for j, c2 in enumerate(s2):\n",
        "            insertions = memo[i, j + 1] + 1\n",
        "            deletions = memo[i + 1, j] + 1\n",
        "            substitutions = memo[i, j] + (c1 != c2)\n",
        "            memo[i + 1, j + 1] = min(insertions, deletions, substitutions)\n",
        "            \n",
        "    print (memo)\n",
        "    \n",
        "    return memo[-1,-1]\n",
        "\n",
        "print (levenshtein(a,b))"
      ],
      "execution_count": 2,
      "outputs": [
        {
          "output_type": "stream",
          "text": [
            "[[0 1 2 3]\n",
            " [1 1 2 3]\n",
            " [2 2 1 2]\n",
            " [3 2 2 2]\n",
            " [4 3 2 3]\n",
            " [5 4 3 2]]\n",
            "2\n"
          ],
          "name": "stdout"
        }
      ]
    },
    {
      "metadata": {
        "id": "rcID0elHlxEe",
        "colab_type": "code",
        "colab": {}
      },
      "cell_type": "code",
      "source": [
        ""
      ],
      "execution_count": 0,
      "outputs": []
    }
  ]
}
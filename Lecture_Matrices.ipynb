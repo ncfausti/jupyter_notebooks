{
  "nbformat": 4,
  "nbformat_minor": 0,
  "metadata": {
    "colab": {
      "name": "Lecture - Matrices.ipynb",
      "version": "0.3.2",
      "provenance": []
    },
    "kernelspec": {
      "display_name": "Python 3",
      "language": "python",
      "name": "python3"
    },
    "accelerator": "GPU"
  },
  "cells": [
    {
      "cell_type": "markdown",
      "metadata": {
        "id": "view-in-github",
        "colab_type": "text"
      },
      "source": [
        "[View in Colaboratory](https://colab.research.google.com/github/ncfausti/jupyter_notebooks/blob/master/Lecture_Matrices.ipynb)"
      ]
    },
    {
      "metadata": {
        "id": "TIFRKGxomkKe",
        "colab_type": "code",
        "colab": {},
        "outputId": "c943adb4-5c63-4a22-d938-ccc151efa44b"
      },
      "cell_type": "code",
      "source": [
        "import numpy as np\n",
        "\n",
        "data = [[3.1, 3.14, 3.1415], [2.7, 2.71, 2.718]]\n",
        "array1 = np.array(data)\n",
        "array1"
      ],
      "execution_count": 0,
      "outputs": [
        {
          "output_type": "execute_result",
          "data": {
            "text/plain": [
              "array([[ 3.1   ,  3.14  ,  3.1415],\n",
              "       [ 2.7   ,  2.71  ,  2.718 ]])"
            ]
          },
          "metadata": {
            "tags": []
          },
          "execution_count": 11
        }
      ]
    },
    {
      "metadata": {
        "id": "Ru8VwbE0mkKm",
        "colab_type": "code",
        "colab": {},
        "outputId": "cfcb64b6-cd30-4eed-b99d-1cd54b83de37"
      },
      "cell_type": "code",
      "source": [
        "array1.dtype"
      ],
      "execution_count": 0,
      "outputs": [
        {
          "output_type": "execute_result",
          "data": {
            "text/plain": [
              "dtype('float64')"
            ]
          },
          "metadata": {
            "tags": []
          },
          "execution_count": 12
        }
      ]
    },
    {
      "metadata": {
        "id": "ue4uRJhymkKw",
        "colab_type": "code",
        "colab": {},
        "outputId": "a98c3711-d0e7-447f-e518-3aad5ebbc9f9"
      },
      "cell_type": "code",
      "source": [
        "array1.shape"
      ],
      "execution_count": 0,
      "outputs": [
        {
          "output_type": "execute_result",
          "data": {
            "text/plain": [
              "(2, 3)"
            ]
          },
          "metadata": {
            "tags": []
          },
          "execution_count": 13
        }
      ]
    },
    {
      "metadata": {
        "id": "FiDdhmCzmkK6",
        "colab_type": "text"
      },
      "cell_type": "markdown",
      "source": [
        "## Basic Initialization"
      ]
    },
    {
      "metadata": {
        "id": "I8oHxovhmkK-",
        "colab_type": "code",
        "colab": {},
        "outputId": "18955df3-452a-4e0b-84fa-d2a6ae2d38e4"
      },
      "cell_type": "code",
      "source": [
        "np.zeros((3,5))"
      ],
      "execution_count": 0,
      "outputs": [
        {
          "output_type": "execute_result",
          "data": {
            "text/plain": [
              "array([[ 0.,  0.,  0.,  0.,  0.],\n",
              "       [ 0.,  0.,  0.,  0.,  0.],\n",
              "       [ 0.,  0.,  0.,  0.,  0.]])"
            ]
          },
          "metadata": {
            "tags": []
          },
          "execution_count": 17
        }
      ]
    },
    {
      "metadata": {
        "id": "cqDSuIPumkLG",
        "colab_type": "code",
        "colab": {},
        "outputId": "149454d1-233e-49bc-d2ef-b0af4716e8e0"
      },
      "cell_type": "code",
      "source": [
        "np.ones((3,4))"
      ],
      "execution_count": 0,
      "outputs": [
        {
          "output_type": "execute_result",
          "data": {
            "text/plain": [
              "array([[ 1.,  1.,  1.,  1.],\n",
              "       [ 1.,  1.,  1.,  1.],\n",
              "       [ 1.,  1.,  1.,  1.]])"
            ]
          },
          "metadata": {
            "tags": []
          },
          "execution_count": 18
        }
      ]
    },
    {
      "metadata": {
        "id": "lwY0vldXmkLQ",
        "colab_type": "code",
        "colab": {},
        "outputId": "dc0b345a-c15c-4112-b359-71d323235bf6"
      },
      "cell_type": "code",
      "source": [
        "np.empty((5,5))"
      ],
      "execution_count": 0,
      "outputs": [
        {
          "output_type": "execute_result",
          "data": {
            "text/plain": [
              "array([[  6.90194640e-310,   6.90194640e-310,   6.90194618e-310,\n",
              "          6.90191466e-310,   6.90194613e-310],\n",
              "       [  6.90191466e-310,   6.90194618e-310,   6.90191466e-310,\n",
              "          6.90194613e-310,   6.90191469e-310],\n",
              "       [  6.90194618e-310,   6.90191466e-310,   6.90194613e-310,\n",
              "          6.90191466e-310,   6.90194618e-310],\n",
              "       [  6.90191468e-310,   6.90194613e-310,   6.90191466e-310,\n",
              "          6.90194618e-310,   6.90191469e-310],\n",
              "       [  6.90194613e-310,   6.90191466e-310,   6.90194618e-310,\n",
              "          6.90191466e-310,   1.02765654e-321]])"
            ]
          },
          "metadata": {
            "tags": []
          },
          "execution_count": 21
        }
      ]
    },
    {
      "metadata": {
        "id": "fkAWjcn3mkLU",
        "colab_type": "text"
      },
      "cell_type": "markdown",
      "source": [
        "## PageRank - Matrix Multiplication"
      ]
    },
    {
      "metadata": {
        "id": "5cyBpTJZmkLU",
        "colab_type": "code",
        "colab": {},
        "outputId": "717f76fa-d899-479d-839e-3fc7e9a412f7"
      },
      "cell_type": "code",
      "source": [
        "alpha = 0.85\n",
        "beta = 1 - alpha\n",
        "\n",
        "pr = np.array([1.0, 1.0, 1.0])\n",
        "M = np.array([[0, 0, 0.5],\n",
        "             [0.5, 1, 0.5],\n",
        "             [0.5, 0, 0]])\n",
        "\n",
        "\n",
        "for i in range(0, 15):\n",
        "    pr = alpha * M @ pr + beta\n",
        "    print(pr)\n"
      ],
      "execution_count": 0,
      "outputs": [
        {
          "output_type": "stream",
          "text": [
            "[ 0.575  1.85   0.575]\n",
            "[ 0.394375  2.21125   0.394375]\n",
            "[ 0.31760938  2.36478125  0.31760938]\n",
            "[ 0.28498398  2.43003203  0.28498398]\n",
            "[ 0.27111819  2.45776361  0.27111819]\n",
            "[ 0.26522523  2.46954954  0.26522523]\n",
            "[ 0.26272072  2.47455855  0.26272072]\n",
            "[ 0.26165631  2.47668738  0.26165631]\n",
            "[ 0.26120393  2.47759214  0.26120393]\n",
            "[ 0.26101167  2.47797666  0.26101167]\n",
            "[ 0.26092996  2.47814008  0.26092996]\n",
            "[ 0.26089523  2.47820953  0.26089523]\n",
            "[ 0.26088047  2.47823905  0.26088047]\n",
            "[ 0.2608742  2.4782516  0.2608742]\n",
            "[ 0.26087154  2.47825693  0.26087154]\n"
          ],
          "name": "stdout"
        }
      ]
    },
    {
      "metadata": {
        "id": "m4mgrtC1mkLe",
        "colab_type": "code",
        "colab": {}
      },
      "cell_type": "code",
      "source": [
        "colors = np.array(['Green', 'Blue', 'Green', 'Yellow', 'Red'])\n",
        "\n",
        "data = np.random.randn(5,3)"
      ],
      "execution_count": 0,
      "outputs": []
    },
    {
      "metadata": {
        "id": "bZBshDkImkLm",
        "colab_type": "code",
        "colab": {},
        "outputId": "77f8bac5-1338-434f-8425-dea76fd1a88a"
      },
      "cell_type": "code",
      "source": [
        "colors"
      ],
      "execution_count": 0,
      "outputs": [
        {
          "output_type": "execute_result",
          "data": {
            "text/plain": [
              "array(['Green', 'Blue', 'Green', 'Yellow', 'Red'], \n",
              "      dtype='<U6')"
            ]
          },
          "metadata": {
            "tags": []
          },
          "execution_count": 57
        }
      ]
    },
    {
      "metadata": {
        "id": "Bq9crUqNmkLs",
        "colab_type": "code",
        "colab": {},
        "outputId": "d260c08c-77ce-4f07-e703-dbf477266217"
      },
      "cell_type": "code",
      "source": [
        "data"
      ],
      "execution_count": 0,
      "outputs": [
        {
          "output_type": "execute_result",
          "data": {
            "text/plain": [
              "array([[ 3.10669249, -0.29687844,  0.52947644],\n",
              "       [ 0.48135368,  0.76115606, -0.60468068],\n",
              "       [ 0.48787342,  0.35323244,  0.89169349],\n",
              "       [ 0.2318091 , -0.73546908, -0.2662448 ],\n",
              "       [ 0.09345196,  0.92481036,  0.53960019]])"
            ]
          },
          "metadata": {
            "tags": []
          },
          "execution_count": 58
        }
      ]
    },
    {
      "metadata": {
        "id": "R87bXbYSmkLy",
        "colab_type": "code",
        "colab": {},
        "outputId": "4b3af9c6-38e9-4dc1-ab25-9f7b3d7bfbdc"
      },
      "cell_type": "code",
      "source": [
        "colors == 'Green'"
      ],
      "execution_count": 0,
      "outputs": [
        {
          "output_type": "execute_result",
          "data": {
            "text/plain": [
              "array([ True, False,  True, False, False], dtype=bool)"
            ]
          },
          "metadata": {
            "tags": []
          },
          "execution_count": 59
        }
      ]
    },
    {
      "metadata": {
        "id": "engvBAxImkL8",
        "colab_type": "code",
        "colab": {},
        "outputId": "46e6acfa-ce42-403d-eaf2-2632c8298bde"
      },
      "cell_type": "code",
      "source": [
        "data[colors=='Green']"
      ],
      "execution_count": 0,
      "outputs": [
        {
          "output_type": "execute_result",
          "data": {
            "text/plain": [
              "array([[ 3.10669249, -0.29687844,  0.52947644],\n",
              "       [ 0.48787342,  0.35323244,  0.89169349]])"
            ]
          },
          "metadata": {
            "tags": []
          },
          "execution_count": 60
        }
      ]
    },
    {
      "metadata": {
        "id": "xJamHSPJmkMC",
        "colab_type": "code",
        "colab": {},
        "outputId": "16f2782d-e6f8-4764-ed06-33080defb7d7"
      },
      "cell_type": "code",
      "source": [
        "arr = np.empty((8,4))\n",
        "\n",
        "for i in range(8):\n",
        "    arr[i] = i\n",
        "    \n",
        "arr"
      ],
      "execution_count": 0,
      "outputs": [
        {
          "output_type": "execute_result",
          "data": {
            "text/plain": [
              "array([[ 0.,  0.,  0.,  0.],\n",
              "       [ 1.,  1.,  1.,  1.],\n",
              "       [ 2.,  2.,  2.,  2.],\n",
              "       [ 3.,  3.,  3.,  3.],\n",
              "       [ 4.,  4.,  4.,  4.],\n",
              "       [ 5.,  5.,  5.,  5.],\n",
              "       [ 6.,  6.,  6.,  6.],\n",
              "       [ 7.,  7.,  7.,  7.]])"
            ]
          },
          "metadata": {
            "tags": []
          },
          "execution_count": 61
        }
      ]
    },
    {
      "metadata": {
        "id": "5Pkxf4CxmkMI",
        "colab_type": "code",
        "colab": {},
        "outputId": "060b4277-d1d1-457a-d0d7-66f55681a865"
      },
      "cell_type": "code",
      "source": [
        "arr[[7,2,4,1,4]]"
      ],
      "execution_count": 0,
      "outputs": [
        {
          "output_type": "execute_result",
          "data": {
            "text/plain": [
              "array([[ 7.,  7.,  7.,  7.],\n",
              "       [ 2.,  2.,  2.,  2.],\n",
              "       [ 4.,  4.,  4.,  4.],\n",
              "       [ 1.,  1.,  1.,  1.],\n",
              "       [ 4.,  4.,  4.,  4.]])"
            ]
          },
          "metadata": {
            "tags": []
          },
          "execution_count": 63
        }
      ]
    },
    {
      "metadata": {
        "id": "ujCJJnrkmkMM",
        "colab_type": "code",
        "colab": {},
        "outputId": "34e7317a-3310-4c35-eeb2-96da218362db"
      },
      "cell_type": "code",
      "source": [
        "arr[[-1,-5,-2]]"
      ],
      "execution_count": 0,
      "outputs": [
        {
          "output_type": "execute_result",
          "data": {
            "text/plain": [
              "array([[ 7.,  7.,  7.,  7.],\n",
              "       [ 3.,  3.,  3.,  3.],\n",
              "       [ 6.,  6.,  6.,  6.]])"
            ]
          },
          "metadata": {
            "tags": []
          },
          "execution_count": 64
        }
      ]
    },
    {
      "metadata": {
        "id": "x28pXCXQmkMQ",
        "colab_type": "code",
        "colab": {},
        "outputId": "46668858-17da-4c04-8087-31996017442a"
      },
      "cell_type": "code",
      "source": [
        "arr"
      ],
      "execution_count": 0,
      "outputs": [
        {
          "output_type": "execute_result",
          "data": {
            "text/plain": [
              "array([[ 0.,  0.,  0.,  0.],\n",
              "       [ 1.,  1.,  1.,  1.],\n",
              "       [ 2.,  2.,  2.,  2.],\n",
              "       [ 3.,  3.,  3.,  3.],\n",
              "       [ 4.,  4.,  4.,  4.],\n",
              "       [ 5.,  5.,  5.,  5.],\n",
              "       [ 6.,  6.,  6.,  6.],\n",
              "       [ 7.,  7.,  7.,  7.]])"
            ]
          },
          "metadata": {
            "tags": []
          },
          "execution_count": 65
        }
      ]
    },
    {
      "metadata": {
        "id": "burD2ikWmkMU",
        "colab_type": "code",
        "colab": {},
        "outputId": "c4931cfc-25c7-4258-e826-6a471b86a387"
      },
      "cell_type": "code",
      "source": [
        "np.dot(arr, arr.T)"
      ],
      "execution_count": 0,
      "outputs": [
        {
          "output_type": "execute_result",
          "data": {
            "text/plain": [
              "array([[   0.,    0.,    0.,    0.,    0.,    0.,    0.,    0.],\n",
              "       [   0.,    4.,    8.,   12.,   16.,   20.,   24.,   28.],\n",
              "       [   0.,    8.,   16.,   24.,   32.,   40.,   48.,   56.],\n",
              "       [   0.,   12.,   24.,   36.,   48.,   60.,   72.,   84.],\n",
              "       [   0.,   16.,   32.,   48.,   64.,   80.,   96.,  112.],\n",
              "       [   0.,   20.,   40.,   60.,   80.,  100.,  120.,  140.],\n",
              "       [   0.,   24.,   48.,   72.,   96.,  120.,  144.,  168.],\n",
              "       [   0.,   28.,   56.,   84.,  112.,  140.,  168.,  196.]])"
            ]
          },
          "metadata": {
            "tags": []
          },
          "execution_count": 69
        }
      ]
    },
    {
      "metadata": {
        "id": "lYH2BuRgmkMa",
        "colab_type": "code",
        "colab": {},
        "outputId": "4e1abe50-1a28-435b-eb33-ed7ab7a466be"
      },
      "cell_type": "code",
      "source": [
        "typ = ['abc']\n",
        "\n",
        "typ == 'abc' or (type(typ) == list and typ[0] == 'abc')"
      ],
      "execution_count": 0,
      "outputs": [
        {
          "output_type": "execute_result",
          "data": {
            "text/plain": [
              "True"
            ]
          },
          "metadata": {
            "tags": []
          },
          "execution_count": 74
        }
      ]
    },
    {
      "metadata": {
        "id": "COSCnKDNmkMg",
        "colab_type": "code",
        "colab": {}
      },
      "cell_type": "code",
      "source": [
        ""
      ],
      "execution_count": 0,
      "outputs": []
    }
  ]
}